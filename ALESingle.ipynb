{
 "cells": [
  {
   "cell_type": "code",
   "execution_count": 2,
   "metadata": {},
   "outputs": [],
   "source": [
    "import pandas as pd\n",
    "import numpy as np"
   ]
  },
  {
   "cell_type": "code",
   "execution_count": 62,
   "metadata": {},
   "outputs": [],
   "source": [
    "#Single Feature ALE\n",
    "def ALE(model, X, select_feature, grid_resolution):\n",
    "    # model: fitted machine learning model\n",
    "    # X: Training set\n",
    "    # select_feature: which feature is calculated on\n",
    "    # grid_resolution: number of intervals\n",
    "    \n",
    "    #find the number of points in one interval\n",
    "    nj_k = int(np.floor(X.shape[0]/grid_resolution))\n",
    "\n",
    "    #sort X according to select feature\n",
    "    X_copy = X.copy()\n",
    "    X_sorted = X_copy[X_copy[:, select_feature].argsort()]\n",
    "\n",
    "    #partition X\n",
    "    X_splitted = []\n",
    "    z = [X_sorted[:, select_feature].min()-X_sorted[:, select_feature].min()/10]\n",
    "    for i in range(0, X_sorted.shape[0], nj_k):\n",
    "        if i+nj_k > X_sorted.shape[0]:\n",
    "            X_i = X_sorted[i:, :]\n",
    "        else:\n",
    "            X_i = X_sorted[i:i+nj_k, :]\n",
    "        X_splitted.append(X_i)\n",
    "        z.append(X_i[:, select_feature].max())\n",
    "    \n",
    "    \n",
    "    #calculate uncentered effect\n",
    "    ale = []\n",
    "    ale_i = 0\n",
    "    for i in range(len(X_splitted)):\n",
    "        X_i = X_splitted[i]\n",
    "        X_i_lower = X_i.copy()\n",
    "        X_i_upper = X_i.copy()\n",
    "        X_i_lower[:, select_feature] = z[i]\n",
    "        X_i_upper[:, select_feature] = z[i+1]\n",
    "        pred_upper = model.predict(X_i_upper)\n",
    "        pred_lower = model.predict(X_i_lower)\n",
    "        diff = (pred_upper - pred_lower)\n",
    "        ave_diff = diff.mean()\n",
    "        ale_i+=ave_diff\n",
    "        ale.append(ale_i)\n",
    "    \n",
    "    #calculate centered effect\n",
    "    ale_expectation = np.sum([X_splitted[i].shape[0]*ale[i] for i in range(len(ale))])/X_sorted.shape[0]\n",
    "    ale_centered = ale - ale_expectation \n",
    "    \n",
    "    return ale_centered, z[1:]"
   ]
  },
  {
   "cell_type": "code",
   "execution_count": 4,
   "metadata": {},
   "outputs": [],
   "source": [
    "from sklearn.datasets import load_boston\n",
    "\n",
    "X_all, y_all = load_boston().data, load_boston().target"
   ]
  },
  {
   "cell_type": "code",
   "execution_count": 5,
   "metadata": {},
   "outputs": [
    {
     "data": {
      "text/plain": [
       "0.9813474035784516"
      ]
     },
     "execution_count": 5,
     "metadata": {},
     "output_type": "execute_result"
    }
   ],
   "source": [
    "from sklearn.ensemble import RandomForestRegressor\n",
    "\n",
    "RF = RandomForestRegressor(random_state=0, n_estimators=100)\n",
    "RF.fit(X_all, y_all)\n",
    "RF.score(X_all, y_all)"
   ]
  },
  {
   "cell_type": "code",
   "execution_count": 153,
   "metadata": {},
   "outputs": [],
   "source": [
    "ale, z = ALE(model=RF, X=X_all, select_feature=3, grid_resolution=50)"
   ]
  },
  {
   "cell_type": "code",
   "execution_count": 154,
   "metadata": {},
   "outputs": [
    {
     "data": {
      "text/plain": [
       "51"
      ]
     },
     "execution_count": 154,
     "metadata": {},
     "output_type": "execute_result"
    }
   ],
   "source": [
    "len(ale)"
   ]
  },
  {
   "cell_type": "code",
   "execution_count": 155,
   "metadata": {},
   "outputs": [
    {
     "data": {
      "text/plain": [
       "51"
      ]
     },
     "execution_count": 155,
     "metadata": {},
     "output_type": "execute_result"
    }
   ],
   "source": [
    "len(z)"
   ]
  },
  {
   "cell_type": "code",
   "execution_count": 156,
   "metadata": {},
   "outputs": [
    {
     "data": {
      "text/plain": [
       "array([-0.01121976, -0.01121976, -0.01121976, -0.01121976, -0.01121976,\n",
       "       -0.01121976, -0.01121976, -0.01121976, -0.01121976, -0.01121976,\n",
       "       -0.01121976, -0.01121976, -0.01121976, -0.01121976, -0.01121976,\n",
       "       -0.01121976, -0.01121976, -0.01121976, -0.01121976, -0.01121976,\n",
       "       -0.01121976, -0.01121976, -0.01121976, -0.01121976, -0.01121976,\n",
       "       -0.01121976, -0.01121976, -0.01121976, -0.01121976, -0.01121976,\n",
       "       -0.01121976, -0.01121976, -0.01121976, -0.01121976, -0.01121976,\n",
       "       -0.01121976, -0.01121976, -0.01121976, -0.01121976, -0.01121976,\n",
       "       -0.01121976, -0.01121976, -0.01121976, -0.01121976, -0.01121976,\n",
       "       -0.01121976, -0.01121976,  0.14648024,  0.14648024,  0.14648024,\n",
       "        0.14648024])"
      ]
     },
     "execution_count": 156,
     "metadata": {},
     "output_type": "execute_result"
    }
   ],
   "source": [
    "ale"
   ]
  },
  {
   "cell_type": "code",
   "execution_count": 157,
   "metadata": {},
   "outputs": [
    {
     "data": {
      "text/plain": [
       "[0.0,\n",
       " 0.0,\n",
       " 0.0,\n",
       " 0.0,\n",
       " 0.0,\n",
       " 0.0,\n",
       " 0.0,\n",
       " 0.0,\n",
       " 0.0,\n",
       " 0.0,\n",
       " 0.0,\n",
       " 0.0,\n",
       " 0.0,\n",
       " 0.0,\n",
       " 0.0,\n",
       " 0.0,\n",
       " 0.0,\n",
       " 0.0,\n",
       " 0.0,\n",
       " 0.0,\n",
       " 0.0,\n",
       " 0.0,\n",
       " 0.0,\n",
       " 0.0,\n",
       " 0.0,\n",
       " 0.0,\n",
       " 0.0,\n",
       " 0.0,\n",
       " 0.0,\n",
       " 0.0,\n",
       " 0.0,\n",
       " 0.0,\n",
       " 0.0,\n",
       " 0.0,\n",
       " 0.0,\n",
       " 0.0,\n",
       " 0.0,\n",
       " 0.0,\n",
       " 0.0,\n",
       " 0.0,\n",
       " 0.0,\n",
       " 0.0,\n",
       " 0.0,\n",
       " 0.0,\n",
       " 0.0,\n",
       " 0.0,\n",
       " 0.0,\n",
       " 1.0,\n",
       " 1.0,\n",
       " 1.0,\n",
       " 1.0]"
      ]
     },
     "execution_count": 157,
     "metadata": {},
     "output_type": "execute_result"
    }
   ],
   "source": [
    "z"
   ]
  },
  {
   "cell_type": "code",
   "execution_count": 161,
   "metadata": {},
   "outputs": [
    {
     "data": {
      "text/plain": [
       "array([[6.3200e-03, 1.8000e+01, 2.3100e+00, 0.0000e+00, 5.3800e-01,\n",
       "        6.5750e+00, 6.5200e+01, 4.0900e+00, 1.0000e+00, 2.9600e+02,\n",
       "        1.5300e+01, 3.9690e+02, 4.9800e+00],\n",
       "       [2.7310e-02, 0.0000e+00, 7.0700e+00, 0.0000e+00, 4.6900e-01,\n",
       "        6.4210e+00, 7.8900e+01, 4.9671e+00, 2.0000e+00, 2.4200e+02,\n",
       "        1.7800e+01, 3.9690e+02, 9.1400e+00],\n",
       "       [2.7290e-02, 0.0000e+00, 7.0700e+00, 0.0000e+00, 4.6900e-01,\n",
       "        7.1850e+00, 6.1100e+01, 4.9671e+00, 2.0000e+00, 2.4200e+02,\n",
       "        1.7800e+01, 3.9283e+02, 4.0300e+00],\n",
       "       [3.2370e-02, 0.0000e+00, 2.1800e+00, 0.0000e+00, 4.5800e-01,\n",
       "        6.9980e+00, 4.5800e+01, 6.0622e+00, 3.0000e+00, 2.2200e+02,\n",
       "        1.8700e+01, 3.9463e+02, 2.9400e+00],\n",
       "       [6.9050e-02, 0.0000e+00, 2.1800e+00, 0.0000e+00, 4.5800e-01,\n",
       "        7.1470e+00, 5.4200e+01, 6.0622e+00, 3.0000e+00, 2.2200e+02,\n",
       "        1.8700e+01, 3.9690e+02, 5.3300e+00],\n",
       "       [2.9850e-02, 0.0000e+00, 2.1800e+00, 0.0000e+00, 4.5800e-01,\n",
       "        6.4300e+00, 5.8700e+01, 6.0622e+00, 3.0000e+00, 2.2200e+02,\n",
       "        1.8700e+01, 3.9412e+02, 5.2100e+00],\n",
       "       [8.8290e-02, 1.2500e+01, 7.8700e+00, 0.0000e+00, 5.2400e-01,\n",
       "        6.0120e+00, 6.6600e+01, 5.5605e+00, 5.0000e+00, 3.1100e+02,\n",
       "        1.5200e+01, 3.9560e+02, 1.2430e+01],\n",
       "       [1.4455e-01, 1.2500e+01, 7.8700e+00, 0.0000e+00, 5.2400e-01,\n",
       "        6.1720e+00, 9.6100e+01, 5.9505e+00, 5.0000e+00, 3.1100e+02,\n",
       "        1.5200e+01, 3.9690e+02, 1.9150e+01],\n",
       "       [2.1124e-01, 1.2500e+01, 7.8700e+00, 0.0000e+00, 5.2400e-01,\n",
       "        5.6310e+00, 1.0000e+02, 6.0821e+00, 5.0000e+00, 3.1100e+02,\n",
       "        1.5200e+01, 3.8663e+02, 2.9930e+01],\n",
       "       [1.7004e-01, 1.2500e+01, 7.8700e+00, 0.0000e+00, 5.2400e-01,\n",
       "        6.0040e+00, 8.5900e+01, 6.5921e+00, 5.0000e+00, 3.1100e+02,\n",
       "        1.5200e+01, 3.8671e+02, 1.7100e+01]])"
      ]
     },
     "execution_count": 161,
     "metadata": {},
     "output_type": "execute_result"
    }
   ],
   "source": [
    "X_all[:10]"
   ]
  },
  {
   "cell_type": "code",
   "execution_count": null,
   "metadata": {},
   "outputs": [],
   "source": [
    "\n",
    "    "
   ]
  }
 ],
 "metadata": {
  "kernelspec": {
   "display_name": "Python 3",
   "language": "python",
   "name": "python3"
  },
  "language_info": {
   "codemirror_mode": {
    "name": "ipython",
    "version": 3
   },
   "file_extension": ".py",
   "mimetype": "text/x-python",
   "name": "python",
   "nbconvert_exporter": "python",
   "pygments_lexer": "ipython3",
   "version": "3.6.4"
  }
 },
 "nbformat": 4,
 "nbformat_minor": 2
}
